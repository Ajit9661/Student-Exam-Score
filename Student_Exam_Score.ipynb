{
  "nbformat": 4,
  "nbformat_minor": 0,
  "metadata": {
    "colab": {
      "private_outputs": true,
      "provenance": []
    },
    "kernelspec": {
      "name": "python3",
      "display_name": "Python 3"
    },
    "language_info": {
      "name": "python"
    }
  },
  "cells": [
    {
      "cell_type": "code",
      "execution_count": null,
      "metadata": {
        "id": "_bJT_eJ3TbwC"
      },
      "outputs": [],
      "source": [
        "import pandas as pd\n",
        "import numpy as np\n",
        "import matplotlib.pyplot as plt\n",
        "import seaborn as sns"
      ]
    },
    {
      "cell_type": "code",
      "source": [
        "df = pd.read_csv(\"/content/Expanded_data_with_more_features.csv\")\n",
        "print(df.head())"
      ],
      "metadata": {
        "id": "63rEaBBMTuo4"
      },
      "execution_count": null,
      "outputs": []
    },
    {
      "cell_type": "code",
      "source": [
        "df.describe()"
      ],
      "metadata": {
        "id": "BNC6uvlNUPDz"
      },
      "execution_count": null,
      "outputs": []
    },
    {
      "cell_type": "code",
      "source": [
        "df.info()"
      ],
      "metadata": {
        "id": "-xA9kgvkUorr"
      },
      "execution_count": null,
      "outputs": []
    },
    {
      "cell_type": "code",
      "source": [
        "df.isnull().sum()"
      ],
      "metadata": {
        "id": "2XSySnV3U0qT"
      },
      "execution_count": null,
      "outputs": []
    },
    {
      "cell_type": "markdown",
      "source": [
        "#Drop unnamed column"
      ],
      "metadata": {
        "id": "NVCGR3OdVLts"
      }
    },
    {
      "cell_type": "code",
      "source": [
        "df =df.drop(\"Unnamed: 0\",axis = 1)\n",
        "print(df.head())"
      ],
      "metadata": {
        "id": "cItDlotzVQ0R"
      },
      "execution_count": null,
      "outputs": []
    },
    {
      "cell_type": "markdown",
      "source": [
        "#Gender Distribution"
      ],
      "metadata": {
        "id": "Tizi4VCZW67m"
      }
    },
    {
      "cell_type": "code",
      "source": [
        "plt.figure(figsize=(5,5))\n",
        "ax=sns.countplot(data=df , x= \"Gender\")\n",
        "ax.bar_label(ax.containers[0])\n",
        "plt.title(\"Gender Distribution\")\n",
        "plt.show()"
      ],
      "metadata": {
        "id": "PVtb3ySAW930"
      },
      "execution_count": null,
      "outputs": []
    },
    {
      "cell_type": "code",
      "source": [
        "#from the above chart we have analysed that\n",
        "#the number of female in the data is more than the number of male"
      ],
      "metadata": {
        "id": "yUtd0vjLWghQ"
      },
      "execution_count": null,
      "outputs": []
    },
    {
      "cell_type": "code",
      "source": [
        "gb = df.groupby(\"ParentEduc\").agg({\"MathScore\":\"mean\",\"ReadingScore\":\"mean\",\"WritingScore\":\"mean\"})\n",
        "print(gb)"
      ],
      "metadata": {
        "id": "epjfdgnKXMy8"
      },
      "execution_count": null,
      "outputs": []
    },
    {
      "cell_type": "code",
      "source": [
        "plt.figure(figsize=(5,4))\n",
        "sns.heatmap(gb, annot = True)\n",
        "plt.show()"
      ],
      "metadata": {
        "id": "je5AMIWc05MS"
      },
      "execution_count": null,
      "outputs": []
    },
    {
      "cell_type": "code",
      "source": [
        "#from the above chart we have canclude that the education of the parents have a good marks"
      ],
      "metadata": {
        "id": "LvEHj8Gh1MFe"
      },
      "execution_count": null,
      "outputs": []
    },
    {
      "cell_type": "code",
      "source": [
        "gb1 = df.groupby(\"ParentMaritalStatus\").agg({\"MathScore\":\"mean\",\"ReadingScore\":\"mean\",\"WritingScore\":\"mean\"})\n",
        "print(gb1)"
      ],
      "metadata": {
        "id": "X-aiy-pX2OR0"
      },
      "execution_count": null,
      "outputs": []
    },
    {
      "cell_type": "code",
      "source": [
        "plt.figure(figsize=(5,4))\n",
        "sns.heatmap(gb1,annot =True)\n",
        "plt.show()"
      ],
      "metadata": {
        "id": "bhD5IB8d28pz"
      },
      "execution_count": null,
      "outputs": []
    },
    {
      "cell_type": "code",
      "source": [
        "#from the above chart we have cancluted that there is no/nagligible impact on the\n",
        "#students score due to thair parents marital stetus"
      ],
      "metadata": {
        "id": "D515Qr7E3cgy"
      },
      "execution_count": null,
      "outputs": []
    },
    {
      "cell_type": "code",
      "source": [
        "sns.boxplot(data = df ,x = \"MathScore\")\n",
        "plt.show()"
      ],
      "metadata": {
        "id": "5UX9b1ya5VVv"
      },
      "execution_count": null,
      "outputs": []
    },
    {
      "cell_type": "code",
      "source": [
        "sns.boxplot(data = df ,x = \"ReadingScore\")\n",
        "plt.show()"
      ],
      "metadata": {
        "id": "WFr4Ayqx5xzM"
      },
      "execution_count": null,
      "outputs": []
    },
    {
      "cell_type": "code",
      "source": [
        "sns.boxplot(data = df , x= \"WritingScore\")\n",
        "plt.show()"
      ],
      "metadata": {
        "id": "9NDGG3vx6AXr"
      },
      "execution_count": null,
      "outputs": []
    },
    {
      "cell_type": "code",
      "source": [
        "print(df[\"EthnicGroup\"].unique())"
      ],
      "metadata": {
        "id": "2OG5LzuD6OTj"
      },
      "execution_count": null,
      "outputs": []
    },
    {
      "cell_type": "markdown",
      "source": [
        "#Distribution of Ethnic Groups"
      ],
      "metadata": {
        "id": "ndUU4WWj6-Y-"
      }
    },
    {
      "cell_type": "code",
      "source": [
        "groupA = df.loc[(df[\"EthnicGroup\"] == \"group A\")].count()\n",
        "groupB = df.loc[(df[\"EthnicGroup\"] == \"group B\")].count()\n",
        "groupC = df.loc[(df[\"EthnicGroup\"] == \"group C\")].count()\n",
        "groupD = df.loc[(df[\"EthnicGroup\"] == \"group D\")].count()\n",
        "groupE = df.loc[(df[\"EthnicGroup\"] == \"group E\")].count()\n",
        "\n",
        "l = [\"group A\",\"group B\",\"group C\",\"gropu D\",\"group E\"]\n",
        "mlist = [groupA[\"EthnicGroup\"], groupB[\"EthnicGroup\"], groupC[\"EthnicGroup\"],groupD[\"EthnicGroup\"],groupE[\"EthnicGroup\"]]\n",
        "\n",
        "plt.pie(mlist , labels= l, autopct= \"%1.2f%%\")\n",
        "plt.title(\"distribution of Ethnic groups\")\n",
        "plt.show()"
      ],
      "metadata": {
        "id": "maQnXx9J7EwB"
      },
      "execution_count": null,
      "outputs": []
    },
    {
      "cell_type": "code",
      "source": [
        "ax = sns.countplot(data = df , x = \"EthnicGroup\")\n",
        "ax.bar_label(ax.containers[0])"
      ],
      "metadata": {
        "id": "-o4WTgkP7sAg"
      },
      "execution_count": null,
      "outputs": []
    },
    {
      "cell_type": "code",
      "source": [],
      "metadata": {
        "id": "WVyel48A_QXY"
      },
      "execution_count": null,
      "outputs": []
    }
  ]
}